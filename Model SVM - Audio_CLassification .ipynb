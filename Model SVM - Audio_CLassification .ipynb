{
 "cells": [
  {
   "cell_type": "code",
   "execution_count": 24,
   "metadata": {},
   "outputs": [],
   "source": [
    "from pathlib import Path\n",
    "import matplotlib.pyplot as plt\n",
    "import numpy as np\n",
    "from IPython.display import Audio\n",
    "sound_file = 'C:/Users/eduds/Music/jupyther_ring.wav' #sonido para que avise cuando termine de ejecutar proceso"
   ]
  },
  {
   "cell_type": "code",
   "execution_count": 22,
   "metadata": {},
   "outputs": [],
   "source": [
    "#Borrar Espectrogramas\n",
    "import shutil\n",
    "import os\n",
    "\n",
    "for folder in os.listdir('C:/Users/eduds/Desktop/Sample Class/Spectrograms'):\n",
    "    shutil.rmtree('C:/Users/eduds/Desktop/Sample Class/Spectrograms/' + folder)\n",
    "    os.makedirs('C:/Users/eduds/Desktop/Sample Class/Spectrograms/' + folder)"
   ]
  },
  {
   "cell_type": "code",
   "execution_count": null,
   "metadata": {},
   "outputs": [],
   "source": [
    "import librosa\n",
    "import librosa.display\n",
    "import pylab\n",
    "#Crear espectrogramas y exportarlos en png\n",
    "for clase in os.listdir('C:/Users/eduds/Desktop/Sample Class/Audios'):\n",
    "    #Kicks, Snares, Claps, Hats\n",
    "    a = os.listdir('C:/Users/eduds/Desktop/Sample Class/Audios/' + clase) #obtiene lista de archivos\n",
    "    \n",
    "    \n",
    "    \n",
    "    \n",
    "    for filename in a: #Filenames\n",
    "        audio, sr = librosa.load('C:/Users/eduds/Desktop/Sample Class/Audios/'+ clase + '/' + filename)\n",
    "        \n",
    "        audio = librosa.util.normalize(audio) #Normalizado\n",
    "        \n",
    "        audio_trim, index = librosa.effects.trim(audio, top_db=40)\n",
    "        audio_cut = librosa.util.fix_length(audio_trim, 3000)\n",
    "    \n",
    "        pylab.axis('off') # no axis\n",
    "        pylab.axes([0., 0., 1., 1.], frameon=False, xticks=[], yticks=[]) #que hace esto\n",
    "        \n",
    "        S = librosa.feature.melspectrogram(y=audio_cut, power=0.5, n_mels = 256, hop_length = 5)\n",
    "        librosa.display.specshow(S, x_axis='time', y_axis='log')\n",
    "\n",
    "        pylab.savefig('C:/Users/eduds/Desktop/Sample Class/Spectrograms/' + clase + '/' + filename[:-4] +'.png', bbox_inches=None, pad_inches=0)\n",
    "        pylab.close()\n",
    "        \n",
    "Audio(sound_file, autoplay=True, rate=44100) #te avisa con un sonido cuando termina de ejecutar"
   ]
  },
  {
   "cell_type": "code",
   "execution_count": 66,
   "metadata": {},
   "outputs": [],
   "source": [
    "from sklearn.utils import Bunch\n",
    "from skimage.io import imread\n",
    "from skimage.transform import resize\n",
    "\n",
    "def load_image_files(container_path, dimension=(64, 64)):\n",
    "    \n",
    "    image_dir = Path(container_path)\n",
    "    folders = [directory for directory in image_dir.iterdir() if directory.is_dir()]\n",
    "    categories = [fo.name for fo in folders]\n",
    "\n",
    "    descr = \"A image classification dataset\"\n",
    "    images = []\n",
    "    flat_data = []\n",
    "    target = []\n",
    "    \n",
    "    for i, direc in enumerate(folders):\n",
    "        for file in direc.iterdir():\n",
    "            img = imread(file)\n",
    "            img_resized = resize(img, dimension, anti_aliasing=True, mode='reflect')\n",
    "            flat_data.append(img_resized.flatten()) \n",
    "            images.append(img_resized)\n",
    "            target.append(i)\n",
    "    flat_data = np.array(flat_data)\n",
    "    target = np.array(target)\n",
    "    images = np.array(images)\n",
    "\n",
    "    return Bunch(data = flat_data,\n",
    "                 target = target,\n",
    "                 target_names = categories,\n",
    "                 images = images,\n",
    "                 DESCR = descr)"
   ]
  },
  {
   "cell_type": "code",
   "execution_count": 67,
   "metadata": {},
   "outputs": [],
   "source": [
    "image_dataset = load_image_files(\"C:/Users/eduds/Desktop/Sample Class/Spectrograms\")"
   ]
  },
  {
   "cell_type": "code",
   "execution_count": 68,
   "metadata": {},
   "outputs": [],
   "source": [
    "from sklearn.model_selection import train_test_split\n",
    "X_train, X_test, y_train, y_test = train_test_split(\n",
    "    image_dataset.data, image_dataset.target, test_size=0.3, random_state=109)"
   ]
  },
  {
   "cell_type": "code",
   "execution_count": 70,
   "metadata": {},
   "outputs": [
    {
     "name": "stdout",
     "output_type": "stream",
     "text": [
      "111.35131287574768\n"
     ]
    }
   ],
   "source": [
    "from sklearn.model_selection import GridSearchCV\n",
    "from sklearn import svm, metrics, datasets\n",
    "import time\n",
    "start = time.time()\n",
    "\n",
    "param_grid = [\n",
    "  {'C': [1, 10, 100, 1000], 'kernel': ['linear']},\n",
    "  {'C': [1, 10, 100, 1000], 'gamma': [0.001, 0.0001], 'kernel': ['rbf']},\n",
    " ]\n",
    "\n",
    "svc = svm.SVC()\n",
    "clf = GridSearchCV(svc, param_grid)\n",
    "clf.fit(X_train, y_train)\n",
    "\n",
    "end = time.time()\n",
    "print(end-start)"
   ]
  },
  {
   "cell_type": "code",
   "execution_count": 91,
   "metadata": {},
   "outputs": [],
   "source": [
    "y_pred = clf.predict(X_test)"
   ]
  },
  {
   "cell_type": "code",
   "execution_count": 99,
   "metadata": {},
   "outputs": [
    {
     "data": {
      "text/plain": [
       "(16384,)"
      ]
     },
     "execution_count": 99,
     "metadata": {},
     "output_type": "execute_result"
    }
   ],
   "source": [
    "X_test[0].shape"
   ]
  },
  {
   "cell_type": "code",
   "execution_count": 73,
   "metadata": {},
   "outputs": [
    {
     "name": "stdout",
     "output_type": "stream",
     "text": [
      "Classification report for - \n",
      "GridSearchCV(cv=None, error_score=nan,\n",
      "             estimator=SVC(C=1.0, break_ties=False, cache_size=200,\n",
      "                           class_weight=None, coef0=0.0,\n",
      "                           decision_function_shape='ovr', degree=3,\n",
      "                           gamma='scale', kernel='rbf', max_iter=-1,\n",
      "                           probability=False, random_state=None, shrinking=True,\n",
      "                           tol=0.001, verbose=False),\n",
      "             iid='deprecated', n_jobs=None,\n",
      "             param_grid=[{'C': [1, 10, 100, 1000], 'kernel': ['linear']},\n",
      "                         {'C': [1, 10, 100, 1000], 'gamma': [0.001, 0.0001],\n",
      "                          'kernel': ['rbf']}],\n",
      "             pre_dispatch='2*n_jobs', refit=True, return_train_score=False,\n",
      "             scoring=None, verbose=0):\n",
      "              precision    recall  f1-score   support\n",
      "\n",
      "           0       0.89      0.94      0.91        50\n",
      "           1       0.97      0.92      0.94        63\n",
      "           2       1.00      0.99      0.99        68\n",
      "           3       0.92      0.93      0.92        59\n",
      "\n",
      "    accuracy                           0.95       240\n",
      "   macro avg       0.94      0.94      0.94       240\n",
      "weighted avg       0.95      0.95      0.95       240\n",
      "\n",
      "\n"
     ]
    }
   ],
   "source": [
    "print(\"Classification report for - \\n{}:\\n{}\\n\".format(\n",
    "    clf, metrics.classification_report(y_test, y_pred)))"
   ]
  },
  {
   "cell_type": "markdown",
   "metadata": {},
   "source": [
    "# Predicciones individuales de audios"
   ]
  },
  {
   "cell_type": "code",
   "execution_count": null,
   "metadata": {},
   "outputs": [],
   "source": [
    "#Primero conviertes el audio a spectrograma\n",
    "\n",
    "file_name = 'Snare Drum 027' #solo poner aqui el nombre de cualquier archivo de audio wav\n",
    "\n",
    "file_path = 'C:/Users/eduds/Desktop/Sample Class/Audio Prueba/' #directorio donde guardar los audios que quieres predecir\n",
    "\n",
    "audio, sr = librosa.load(file_path + file_name + '.wav')\n",
    "        \n",
    "audio = librosa.util.normalize(audio) #Normalizado\n",
    "\n",
    "audio_trim, index = librosa.effects.trim(audio, top_db=40)\n",
    "audio_cut = librosa.util.fix_length(audio_trim, 3000)\n",
    "\n",
    "pylab.axis('off') # no axis\n",
    "pylab.axes([0., 0., 1., 1.], frameon=False, xticks=[], yticks=[]) #que hace esto\n",
    "\n",
    "S = librosa.feature.melspectrogram(y=audio_cut, power=0.5, n_mels = 256, hop_length = 5)\n",
    "librosa.display.specshow(S, x_axis='time', y_axis='log')\n",
    "\n",
    "# directorio donde se guardaran los spectrogramas\n",
    "pylab.savefig('C:/Users/eduds/Desktop/Sample Class/Spectrograma Prueba/'+ file_name + '.png', bbox_inches=None, pad_inches=0)\n",
    "pylab.close()"
   ]
  },
  {
   "cell_type": "code",
   "execution_count": 131,
   "metadata": {},
   "outputs": [
    {
     "data": {
      "text/plain": [
       "array([0])"
      ]
     },
     "execution_count": 131,
     "metadata": {},
     "output_type": "execute_result"
    }
   ],
   "source": [
    "#introducir el nombre del archivo a producir una vez creado su spectrograma\n",
    "archivo_predecir = 'Clap 001 808 Bright'\n",
    "\n",
    "#Pasa por el mismo proceso que las imagenes de entrenamiento del modelo\n",
    "img = imread('C:/Users/eduds/Desktop/Sample Class/Spectrograma Prueba/' + archivo_predecir + '.png')\n",
    "img_resized = resize(img, (64, 64), anti_aliasing=True, mode='reflect')\n",
    "img_resized = img_resized.flatten()\n",
    "flat_data = np.array(img_resized)\n",
    "a = flat_data.reshape(1, -1)\n",
    "\n",
    "#Prediccion de clase\n",
    "y_pred = clf.predict(a)\n",
    "y_pred"
   ]
  },
  {
   "cell_type": "code",
   "execution_count": null,
   "metadata": {},
   "outputs": [],
   "source": [
    "'''\n",
    "Clases\n",
    "0 = Claps\n",
    "1 = Hats\n",
    "2 = Kicks\n",
    "3 = Snare\n",
    "'''"
   ]
  }
 ],
 "metadata": {
  "kernelspec": {
   "display_name": "Python 3",
   "language": "python",
   "name": "python3"
  },
  "language_info": {
   "codemirror_mode": {
    "name": "ipython",
    "version": 3
   },
   "file_extension": ".py",
   "mimetype": "text/x-python",
   "name": "python",
   "nbconvert_exporter": "python",
   "pygments_lexer": "ipython3",
   "version": "3.7.6"
  }
 },
 "nbformat": 4,
 "nbformat_minor": 4
}
